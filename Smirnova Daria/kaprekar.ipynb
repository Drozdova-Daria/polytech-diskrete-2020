{
 "cells": [
  {
   "cell_type": "markdown",
   "metadata": {},
   "source": [
    "# Лабораторная работа: Капрекар и неподвижные точки функции К(i)\n",
    "* * * * * * * * * * * *\n",
    "### Вычитание в соответствующей системе счисления\n",
    "На вход поступает массив list и основание системы счисления, происходит поразрядное вычитание"
   ]
  },
  {
   "cell_type": "code",
   "execution_count": 1,
   "metadata": {},
   "outputs": [],
   "source": [
    "bad = ['A', 'B', 'C', 'D', 'E', 'F']\n",
    "\n",
    "def substr(a, b, num_sys):\n",
    "    res = []\n",
    "    for i in range(len(b)):\n",
    "        if (b[i] - a[i] >= 0): res.append(b[i] - a[i])\n",
    "        else: \n",
    "            res.append(b[i] + num_sys - a[i])\n",
    "            k = i + 1\n",
    "            while ((b[k] == 0) and (k < len(b))):\n",
    "                b[k] = b[k] + num_sys - 1\n",
    "                k = k + 1\n",
    "            #if (k == len(b):  - число < 0, в рамках наших вычислений такого не случится... можно добавить исключение\n",
    "            b[k] = b[k] - 1\n",
    "    ## для единственности найденных чисел сразу отсортируем его\n",
    "    res.sort(reverse = True)\n",
    "    for i in range(len(res)): \n",
    "        if(res[i] > 9): res[i] = bad[res[i] - 10]\n",
    "    return (\"\".join(map(str,res)))"
   ]
  },
  {
   "cell_type": "markdown",
   "metadata": {},
   "source": [
    "### Функция Капрекар. \n",
    "На вход поступает строка, в которой записано число, количество разрядов числа и система счисления"
    "На выходе функция возвращает строку - результат вычислений, сразу записанный в порядке, дающем максимум для данного набора цифр"
   ]
  },
  {
   "cell_type": "code",
   "execution_count": 2,
   "metadata": {},
   "outputs": [],
   "source": [
    "def kaprekar(number, digit, num_sys):\n",
    "    list_digits = [int(d, num_sys) for d in number]\n",
    "    #while(digit > len(elem)):\n",
    "    #    digits.append('0')\n",
    "    list_digits.sort(reverse=True)\n",
    "    max_sq = list_digits.copy()\n",
    "    list_digits.sort()\n",
    "    min_sq = list_digits.copy()\n",
    "    #min_num = int(\"\".join(map(str,min_sq))\n",
    "    #max_num = int(\"\".join(map(str,max_sq)))\n",
    "    return substr(max_sq, min_sq, num_sys)"
   ]
  },
  {
   "cell_type": "markdown",
   "metadata": {},
   "source": [
    "#### Введем переменные:  \n",
    "list magicNumber содержит информацию о всех найденных неподвижных точках.  \n",
    "            [  ( значение точки или цикл точек, разрядность найденного значения, система счисления значения точки, длина до него (максимальная))  ]  \n",
    "  \n",
    "list usedNumber вспомогательный, чтобы найти цикл."
   ]
  },
  {
   "cell_type": "code",
   "execution_count": 3,
   "metadata": {},
   "outputs": [],
   "source": [
    "import math\n",
    "magicNumber = {0: (math.inf, 2)}\n",
    "usedNumber = []"
   ]
  },
  {
   "cell_type": "markdown",
   "metadata": {},
   "source": [
    "### Построение всех различных (для функции) чисел\n",
    "\n",
    "Как будем строить число? Начнем с малого, заполним набор всех чисел для случая 2-разрядного числа с системе счисления по основанию 2. Это числа \"11\" и \"10\". Как далее происходит переход к большей разрядности или основанию С.С.?  \n",
    "\n",
    "#### Разрядность:  \n",
    "11 10       ->  (111, 110) + (100)  \n",
    "111 110 100 -> (1111, 1110) + (1100) + (1000)   \n",
    "\n",
    "#### Система счисления:  \n",
    "11 10       + 22 21 20  \n",
    "111 110 100 + 222 221 220 211 210 200\n"
   ]
  },
  {
   "cell_type": "code",
   "execution_count": 4,
   "metadata": {},
   "outputs": [],
   "source": [
    "import numpy as np\n",
    "batch_size = 10\n",
    "# начальный массив возможных значений для d = 2, r = 2\n",
    "start = [\"11\", \"10\"]\n",
    "\n",
    "# строим таким образом, чтобы были только max значения (можно все min или премешанноые в виде 51423, \n",
    "# главное, чтобы одному набору цифр соответствовала только одна комбинация из них)\n",
    "\n",
    "def add_d(arr, digit):\n",
    "    tmp = []\n",
    "    for i in arr:\n",
    "        for k in range(3):\n",
    "            if (int(i[digit - 2]) < k): break\n",
    "            else: tmp.append(i + str(k))\n",
    "    return tmp\n",
    "\n",
    "def add_r(rez, number, digit, r):\n",
    "    if (r > 10): number = number + bad[r - 11]\n",
    "    else: number = number + (str(r - 1))\n",
    "    for i in range (r):\n",
    "        if (digit <= 1):\n",
    "            rez.append(number)\n",
    "            return rez\n",
    "        else:\n",
    "            add_r(rez, number, digit - 1, r - i)\n",
    "    return rez\n",
    "\n"
   ]
  },
  {
   "cell_type": "markdown",
   "metadata": {},
   "source": [
    "### Process функция\n",
    "На вход получает число, применяет к нему функцию капрекара, пока не найдется магическое число или процесс не зациклится"
   ]
  },
  {
   "cell_type": "code",
   "execution_count": 5,
   "metadata": {},
   "outputs": [],
   "source": [
    "def process(number, d, r):\n",
    "    usedNumber.clear()\n",
    "    count = 0\n",
    "    prev = \"0\"\n",
    "    while True:\n",
    "        prev = number\n",
    "        usedNumber.append(number)\n",
    "        number = kaprekar(number, d, r) \n",
    "        count = count + 1 \n",
    "        if (int(number,r) == 0):\n",
    "            break\n",
    "        else: \n",
    "            print (\"number is \" + number)\n",
    "        if ((number == prev) and (magicNumber.get(number) == None)):\n",
    "            magicNumber[number] = (r, count)\n",
    "            print (\"число \" + number + \" является неподвижной точкой: d = \" + str(d) +\" r = \" + str(r) + \"\\n\")\n",
    "            break\n",
    "        else:\n",
    "            if(number in usedNumber): #найден цикл\n",
    "                print(\"цикл\")\n",
    "                print(usedNumber)\n",
    "                break"
   ]
  },
  {
   "cell_type": "code",
   "execution_count": 6,
   "metadata": {},
   "outputs": [
    "name": "stdout",
     "output_type": "stream",
     "text": []
   ],
   "source": [
    "for d in range(2,17):\n",
    "    if (d > 2): start = add_d(start, d)\n",
    "    for r in range(2,17):\n",
    "        if (r > 2): \n",
    "            collection.extend(add_r([],\"\", d, r))\n",
    "        else: collection = start.copy()\n",
    "        print (\"d = \",d,\"r = \",r)\n",
    "        # 100 раз берем рандомные числа из collection, если их больше, чем batch_size, и находим магические числа или циклы\n",
    "        for n in range (101):\n",
    "            if (len(collection) > batch_size):\n",
    "                order = np.random.permutation(len(collection))[0 : min(d * 5, batch_size)]\n",
    "                x = np.array(collection)[order]\n",
    "            else:\n",
    "                x = np.array(collection)\n",
    "                \n",
    "            for number in x:\n",
    "                process(number, d, r)\n",
    "            if (len(x) < batch_size):\n",
    "                break"
   ]
  },
  {
   "cell_type": "code",
   "execution_count": 7,
   "metadata": {},
   "outputs": [
    {
     "data": {
      "text/plain": [
       "{0: (inf, 2),\n",
       " '10': (2, 1),\n",
       " '31': (5, 3),\n",
       " '52': (8, 2),\n",
       " '73': (11, 3),\n",
       " '94': (14, 2),\n",
       " '110': (2, 1),\n",
       " '321': (4, 3),\n",
       " '532': (6, 3),\n",
       " '743': (8, 2),\n",
       " '954': (10, 5),\n",
       " 'B65': (12, 4),\n",
       " 'D76': (14, 7),\n",
       " 'F87': (16, 5),\n",
       " '1100': (2, 1),\n",
       " '1110': (2, 1),\n",
       " '3210': (4, 2),\n",
       " '3320': (5, 3),\n",
       " '7641': (10, 6),\n",
       " 'B962': (15, 3),\n",
       " '11100': (2, 2),\n",
       " '11110': (2, 1),\n",
       " '22110': (3, 4),\n",
       " '54321': (6, 3),\n",
       " '86532': (9, 2),\n",
       " 'B8743': (12, 3),\n",
       " 'EA954': (15, 12),\n",
       " '111100': (2, 2),\n",
       " '111110': (2, 2),\n",
       " '111000': (2, 1),\n",
       " '322110': (4, 5),\n",
       " '332100': (4, 2),\n",
       " '332211': (4, 2),\n",
       " '443220': (6, 3),\n",
       " '543210': (6, 3),\n",
       " '553322': (6, 2),\n",
       " '664320': (8, 10),\n",
       " '774433': (8, 2),\n",
       " '766431': (10, 4),\n",
       " '995544': (10, 2),\n",
       " 'BB6655': (12, 2),\n",
       " 'A97541': (13, 11),\n",
       " 'FF8877': (16, 2),\n",
       " '1111100': (2, 2),\n",
       " '1111110': (2, 1),\n",
       " '1111000': (2, 1),\n",
       " '2221100': (3, 2),\n",
       " '3322110': (4, 7)}"
      ]
     },
     "execution_count": 7,
     "metadata": {},
     "output_type": "execute_result"
    }
   ],
   "source": [
    "magicNumber"
   ]
  }
 ],
 "metadata": {
  "kernelspec": {
   "display_name": "Python 3",
   "language": "python",
   "name": "python3"
  },
  "language_info": {
   "codemirror_mode": {
    "name": "ipython",
    "version": 3
   },
   "file_extension": ".py",
   "mimetype": "text/x-python",
   "name": "python",
   "nbconvert_exporter": "python",
   "pygments_lexer": "ipython3",
   "version": "3.7.4"
  }
 },
 "nbformat": 4,
 "nbformat_minor": 2
}
