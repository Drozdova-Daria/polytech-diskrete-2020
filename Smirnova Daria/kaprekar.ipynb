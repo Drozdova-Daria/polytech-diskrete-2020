{
 "cells": [
  {
   "cell_type": "markdown",
   "metadata": {},
   "source": [
    "# Лабораторная работа: Капрекар и неподвижные точки функции К(i)\n",
    "* * * * * * * * * * * *\n",
    "### Вычитание в соответствующей системе счисления\n",
    "На вход поступает два массива массивов list и основание системы счисления"
   ]
  },
  {
   "cell_type": "code",
   "execution_count": null,
   "metadata": {},
   "outputs": [],
   "source": [
    "bad = ['A', 'B', 'C', 'D', 'E', 'F']\n",
    "\n",
    "def substr(a, b, num_sys):\n",
    "    res = []\n",
    "    for i in range(len(b)):\n",
    "        if (b[i] - a[i] >= 0): res.append(b[i] - a[i])\n",
    "        else: \n",
    "            res.append(b[i] + num_sys - a[i])\n",
    "            k = i + 1\n",
    "            while ((b[k] == 0) and (k < len(b))):\n",
    "                b[k] = b[k] + num_sys - 1\n",
    "                k = k + 1\n",
    "            #if (k == len(b):  - число < 0, в рамках наших вычислений такого не случится... можно добавить исключение\n",
    "            b[k] = b[k] - 1\n",
    "    res.reverse()\n",
    "    ## для единственности найденных чисел сразу отсортируем его\n",
    "    res.sort(reverse = True)\n",
    "    for i in range(len(res)): \n",
    "        if(res[i] > 9): res[i] = bad[res[i] - 10]\n",
    "    return (\"\".join(map(str,res)))"
   ]
  },
  {
   "cell_type": "markdown",
   "metadata": {},
   "source": [
    "### Функция Капрекар. \n",
    "На вход поступает - вектор выборки, количество разрядов числа и система счисления"
   ]
  },
  {
   "cell_type": "code",
   "execution_count": null,
   "metadata": {},
   "outputs": [],
   "source": [
    "def kaprekar(number, digit, num_sys):\n",
    "    digits = [int(d, num_sys) for d in number]\n",
    "    #while(digit > len(elem)):\n",
    "    #    digits.append('0')\n",
    "    digits.sort()\n",
    "    min_sq = digits\n",
    "    min_num = int(\"\".join(map(str,digits)))\n",
    "    digits.sort(reverse=True)\n",
    "    max_sq = digits\n",
    "    max_num = int(\"\".join(map(str,digits)))\n",
    "    return substr(max_sq, min_sq, num_sys)"
   ]
  },
  {
   "cell_type": "markdown",
   "metadata": {},
   "source": [
    "#### Введем переменные:  \n",
    "list magicNumber содержит информацию о всех найденных неподвижных точках.  \n",
    "            [  ( значение точки или цикл точек, разрядность найденного значения, система счисления значения точки, длина до него (максимальная))  ]  \n",
    "  \n",
    "list usedNumber вспомогательный, чтобы найти цикл."
   ]
  },
  {
   "cell_type": "code",
   "execution_count": null,
   "metadata": {},
   "outputs": [],
   "source": [
    "import math\n",
    "magicNumber = {0: (math.inf, 2)}\n",
    "usedNumber = []"
   ]
  },
  {
   "cell_type": "markdown",
   "metadata": {},
   "source": [
    "### Построение всех различных (для функции) чисел\n",
    "\n",
    "Как будем строить число? Начнем с малого, заполним набор всех чисел для случая 2-разрядного числа с системе счисления по основанию 2. Это числа \"11\" и \"10\". Как далее происходит переход к большей разрядности или основанию С.С.?  \n",
    "\n",
    "#### Разрядность:  \n",
    "11 10       ->  (111, 110) + (100)  \n",
    "111 110 100 -> (1111, 1110) + (1100) + (1000)   \n",
    "\n",
    "#### Система счисления:  \n",
    "11 10       + 22 21 20  \n",
    "111 110 100 + 222 221 220 211 210 200\n"
   ]
  },
  {
   "cell_type": "code",
   "execution_count": null,
   "metadata": {},
   "outputs": [],
   "source": [
    "import numpy as np\n",
    "batch_size = 10\n",
    "# начальный массив возможных значений для d = 2, r = 2\n",
    "start = [\"11\", \"10\"]\n",
    "\n",
    "# строим таким образом, чтобы были только max значения (можно min или премешанное в виде 51423, \n",
    "# главное, чтобы для одному набору цифр соответствовала только одна комбинация из них)\n",
    "\n",
    "def add_d(arr, digit):\n",
    "    tmp = []\n",
    "    for i in arr:\n",
    "        for k in range(3):\n",
    "            if (int(i[digit - 2]) < k): break\n",
    "            else: tmp.append(i + str(k))\n",
    "    return tmp\n",
    "\n",
    "def add_r(rez, number, digit, r):\n",
    "    if (r > 10): number = number + bad[r - 11]\n",
    "    else: number = number + (str(r - 1))\n",
    "    for i in range (r):\n",
    "        if (digit <= 1):\n",
    "            rez.append(number)\n",
    "            return rez\n",
    "        else:\n",
    "            add_r(rez, number, digit - 1, r - i)\n",
    "    return rez\n",
    "\n"
   ]
  },
  {
   "cell_type": "code",
   "execution_count": null,
   "metadata": {},
   "outputs": [],
   "source": [
    "for d in range(2,17):\n",
    "    if (d > 2): start = add_d(start, d)\n",
    "    for r in range(2,17):\n",
    "        if (r > 2): \n",
    "            collection.extend(add_r([],\"\", d, r))\n",
    "        else: collection = start.copy()\n",
    "        print (\"d = \",d,\"r = \",r)\n",
    "        # count - счетчик длины до стационарной точки\n",
    "        count = 0\n",
    "        # 100 раз берем рандомные числа из collection и находим магические числа или циклы\n",
    "        for n in range (101):\n",
    "            order = np.random.permutation(len(collection))[0 : min(d * 5, batch_size)]\n",
    "            x = np.array(collection)[order]\n",
    "            for number in x:\n",
    "                usedNumber.clear()\n",
    "                prev = \"0\"\n",
    "                while True:\n",
    "                    prev = number\n",
    "                    usedNumber.append(number)\n",
    "                    number = kaprekar(number, d, r) \n",
    "                    if (int(number,r) > 0):\n",
    "                        print (\"number is\" + number)\n",
    "                    count = count + 1\n",
    "                    if (int(number,r) == 0):\n",
    "                        break\n",
    "                    if ((number == prev) and (magicNumber.get(number) == None)):\n",
    "                        magicNumber[number] = (r, count)\n",
    "                        print (\"число \" + number + \" является неподвижной точкой: d = \" + str(d) +\" r = \" + str(r) + \"\\n\")\n",
    "                        break\n",
    "                    else:\n",
    "                        if(number in usedNumber): #найден цикл\n",
    "                            print(\"цикл\")\n",
    "                            print(usedNumber)\n",
    "                            break\n",
    "            if (len(order) < batch_size):\n",
    "                break"
   ]
  },
  {
   "cell_type": "code",
   "execution_count": null,
   "metadata": {},
   "outputs": [],
   "source": [
    "magicNumber[\"23\"] = (3, 5, 7)\n",
    "magicNumber"
   ]
  },
  {
   "cell_type": "code",
   "execution_count": null,
   "metadata": {},
   "outputs": [],
   "source": [
    "print(magicNumber.get(\"23\"))"
   ]
  },
  {
   "cell_type": "code",
   "execution_count": null,
   "metadata": {},
   "outputs": [],
   "source": [
    "kaprekar(\"10000\",2,2)"
   ]
  },
  {
   "cell_type": "code",
   "execution_count": null,
   "metadata": {},
   "outputs": [],
   "source": [
    "b10000\n",
    "b00001"
   ]
  }
 ],
 "metadata": {
  "kernelspec": {
   "display_name": "Python 3",
   "language": "python",
   "name": "python3"
  },
  "language_info": {
   "codemirror_mode": {
    "name": "ipython",
    "version": 3
   },
   "file_extension": ".py",
   "mimetype": "text/x-python",
   "name": "python",
   "nbconvert_exporter": "python",
   "pygments_lexer": "ipython3",
   "version": "3.7.4"
  }
 },
 "nbformat": 4,
 "nbformat_minor": 2
}
