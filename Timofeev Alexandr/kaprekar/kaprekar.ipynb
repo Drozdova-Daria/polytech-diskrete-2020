{
 "cells": [
  {
   "cell_type": "code",
   "execution_count": 1,
   "metadata": {},
   "outputs": [],
   "source": [
    "def Subtract(digits_a, digits_b, radix): # алгоритм достаточно очевиден\n",
    "    result = digits_a.copy()\n",
    "    \n",
    "    for i in range(1, len(digits_b) + 1):\n",
    "        result[-i] -= digits_b[-i]\n",
    "        \n",
    "    for i in reversed(range(1, len(result))):\n",
    "        while result[i] < 0:\n",
    "            result[i - 1] -= 1\n",
    "            result[i] += radix\n",
    "    \n",
    "    return result"
   ]
  },
  {
   "cell_type": "code",
   "execution_count": 2,
   "metadata": {},
   "outputs": [],
   "source": [
    "def K(number, radix, digits_with_zeros):\n",
    "    digits = [int(d) for d in str(number)]\n",
    "    \n",
    "    digits_dec = sorted(digits, reverse=True)\n",
    "    \n",
    "    # добавляются недостающие ведущие нули(в конец отсортированного в порядке убывания массива цифр)\n",
    "    while len(digits_dec) < digits_with_zeros: \n",
    "        digits_dec.append(0)\n",
    "        \n",
    "    digits_inc = digits_dec[::-1]\n",
    "    \n",
    "    result_digits = Subtract(digits_dec, digits_inc, radix)\n",
    "    \n",
    "    result = int(''.join(map(str, result_digits)))\n",
    "    \n",
    "    return result"
   ]
  },
  {
   "cell_type": "code",
   "execution_count": 3,
   "metadata": {},
   "outputs": [
    {
     "data": {
      "text/plain": [
       "6174"
      ]
     },
     "execution_count": 3,
     "metadata": {},
     "output_type": "execute_result"
    }
   ],
   "source": [
    "K(6174, 10, 4)"
   ]
  },
  {
   "cell_type": "code",
   "execution_count": 4,
   "metadata": {},
   "outputs": [],
   "source": [
    "def Numbers(radix, max_num_digits): # генерируются все числа от 0 до radix**max_num_digits - 1\n",
    "    number = [0]\n",
    "    num_digits = 1\n",
    "    \n",
    "    while True:\n",
    "        yield number\n",
    "        \n",
    "        k = 1\n",
    "        while number[-k] == radix - 1: # \n",
    "            number[-k] = 0\n",
    "            k += 1\n",
    "            \n",
    "            if k > num_digits:\n",
    "                number = [0] + number\n",
    "                num_digits += 1\n",
    "                break\n",
    "                \n",
    "        if num_digits > max_num_digits:\n",
    "            break\n",
    "            \n",
    "        number[-k] += 1        "
   ]
  },
  {
   "cell_type": "code",
   "execution_count": 5,
   "metadata": {},
   "outputs": [],
   "source": [
    "# все то же самое, только теперь функция принимает и выдает числа в виде массива цифр\n",
    "def K(digits, radix, digits_with_zeros): \n",
    "    digits_dec = sorted(digits, reverse=True)\n",
    "    \n",
    "    while len(digits_dec) < digits_with_zeros:\n",
    "        digits_dec.append(0)\n",
    "        \n",
    "    digits_inc = digits_dec[::-1]\n",
    "    \n",
    "    result_digits = Subtract(digits_dec, digits_inc, radix)\n",
    "    \n",
    "    while result_digits[0] == 0 and len(result_digits) > 1: # удаление ведущих нулей в результате\n",
    "        result_digits = result_digits[1:];\n",
    "    \n",
    "    return result_digits"
   ]
  },
  {
   "cell_type": "code",
   "execution_count": 6,
   "metadata": {},
   "outputs": [],
   "source": [
    "import itertools"
   ]
  },
  {
   "cell_type": "code",
   "execution_count": 7,
   "metadata": {},
   "outputs": [],
   "source": [
    "def findFixedPoints(rs, ds): # попробуем найти неподвижные точки простым перебором\n",
    "\n",
    "    fixedPoints = {}\n",
    "\n",
    "    for r, d in itertools.product(rs, ds):\n",
    "        fixedPoints[(r, d)] = []\n",
    "        for digits in Numbers(r, d):\n",
    "            if K(digits, r, d) == digits:\n",
    "                fixedPoints[(r, d)].append(digits.copy())\n",
    "    \n",
    "    return fixedPoints"
   ]
  },
  {
   "cell_type": "code",
   "execution_count": 8,
   "metadata": {},
   "outputs": [
    {
     "name": "stdout",
     "output_type": "stream",
     "text": [
      "Wall time: 7.35 s\n"
     ]
    }
   ],
   "source": [
    "%%time\n",
    "rs = range(2, 8)\n",
    "ds = range(2, 8)\n",
    "\n",
    "fixed_points_slow = findFixedPoints(rs, ds) # долгоооо"
   ]
  },
  {
   "cell_type": "code",
   "execution_count": 9,
   "metadata": {
    "scrolled": true
   },
   "outputs": [
    {
     "data": {
      "text/plain": [
       "{(2, 2): [[0], [1]],\n",
       " (2, 3): [[0], [1, 1]],\n",
       " (2, 4): [[0], [1, 1, 1], [1, 0, 0, 1]],\n",
       " (2, 5): [[0], [1, 1, 1, 1], [1, 0, 1, 0, 1]],\n",
       " (2, 6): [[0], [1, 1, 1, 1, 1], [1, 0, 1, 1, 0, 1], [1, 1, 0, 0, 0, 1]],\n",
       " (2, 7): [[0],\n",
       "  [1, 1, 1, 1, 1, 1],\n",
       "  [1, 0, 1, 1, 1, 0, 1],\n",
       "  [1, 1, 0, 1, 0, 0, 1]],\n",
       " (3, 2): [[0]],\n",
       " (3, 3): [[0]],\n",
       " (3, 4): [[0]],\n",
       " (3, 5): [[0], [2, 0, 2, 1, 1]],\n",
       " (3, 6): [[0]],\n",
       " (3, 7): [[0], [2, 2, 0, 2, 1, 0, 1]],\n",
       " (4, 2): [[0]],\n",
       " (4, 3): [[0], [1, 3, 2]],\n",
       " (4, 4): [[0], [3, 0, 2, 1]],\n",
       " (4, 5): [[0]],\n",
       " (4, 6): [[0], [2, 1, 3, 3, 1, 2], [3, 1, 0, 2, 2, 1], [3, 3, 0, 2, 0, 1]],\n",
       " (4, 7): [[0], [3, 2, 0, 3, 2, 1, 1]],\n",
       " (5, 2): [[0], [1, 3]],\n",
       " (5, 3): [[0]],\n",
       " (5, 4): [[0], [3, 0, 3, 2]],\n",
       " (5, 5): [[0]],\n",
       " (5, 6): [[0]],\n",
       " (5, 7): [[0]],\n",
       " (6, 2): [[0]],\n",
       " (6, 3): [[0], [2, 5, 3]],\n",
       " (6, 4): [[0]],\n",
       " (6, 5): [[0], [4, 1, 5, 3, 2]],\n",
       " (6, 6): [[0], [3, 2, 5, 5, 2, 3], [4, 2, 0, 4, 3, 2], [5, 3, 0, 4, 2, 1]],\n",
       " (6, 7): [[0]],\n",
       " (7, 2): [[0]],\n",
       " (7, 3): [[0]],\n",
       " (7, 4): [[0]],\n",
       " (7, 5): [[0]],\n",
       " (7, 6): [[0]],\n",
       " (7, 7): [[0]]}"
      ]
     },
     "execution_count": 9,
     "metadata": {},
     "output_type": "execute_result"
    }
   ],
   "source": [
    "fixed_points_slow"
   ]
  },
  {
   "cell_type": "code",
   "execution_count": 10,
   "metadata": {},
   "outputs": [],
   "source": [
    " # посчитаем кол-во неподвижных точек для каждой из комбинаций\n",
    "num_fixed_points_slow = [[len(fixed_points_slow[(r, d)]) for d in ds] for r in rs]"
   ]
  },
  {
   "cell_type": "code",
   "execution_count": 11,
   "metadata": {},
   "outputs": [],
   "source": [
    "import matplotlib.pyplot as plt\n",
    "import seaborn as sns"
   ]
  },
  {
   "cell_type": "code",
   "execution_count": 12,
   "metadata": {},
   "outputs": [
    {
     "data": {
      "image/png": "[encoded data removed]",
      "text/plain": [
       "<Figure size 720x576 with 2 Axes>"
      ]
     },
     "metadata": {
      "needs_background": "light"
     },
     "output_type": "display_data"
    }
   ],
   "source": [
    "# опционально можно посмотреть на красивую(пока не очень) картинку\n",
    "fig, ax = plt.subplots(1, 1, figsize=(10, 8));\n",
    "sns.heatmap(num_fixed_points_slow, xticklabels=ds, yticklabels=rs, annot=True, ax=ax, cmap='RdYlGn_r', square=True);\n",
    "ax.set_title('number of fixed points')\n",
    "ax.set_xlabel('num digits');\n",
    "ax.set_ylabel('radix');\n",
    "ax.set(xlim=(0, len(ds)), ylim=(0, len(rs))); # без этого график, почему-то обрезается"
   ]
  },
  {
   "cell_type": "markdown",
   "metadata": {},
   "source": [
    "Не обязательно перебирать все числа. Достаточно перебрать все различные комбинации цифр:\n",
    "\n",
    "(1) Пусть a и b - числа, составленные из одного набора цифр, тогда K(a) = K(b), т.к. значение функции капрекара не зависит от порядка цифр в числе.\n",
    "\n",
    "(2) Если y = K(x) состоит из тех же цифр, что и x, то y - неподвижная точка(т.к. y = K(x) = K(y) по (1)). При этом, любая перестановка цифр числа x кроме y(обозначим эту перестановку z) не будет являться неподвижной точкой, т.к. z != y = K(y) = K(x) = K(z).\n",
    "\n",
    "Таким образом, достаточно перебрать по одному числу из каждого класса эквивалентности, задаваемого отношением одинаковости цифр, оставляющих число.\n",
    "Будем перебирать все числа, цифры которых расположены в порядке неубывания."
   ]
  },
  {
   "cell_type": "code",
   "execution_count": 13,
   "metadata": {},
   "outputs": [],
   "source": [
    "# перебираются все различные комбинации цифр 0, ..., radix-1 длины max_num_digits\n",
    "# без ведущих нулей\n",
    "def Numbers(radix, max_num_digits):\n",
    "    number = [0]\n",
    "    num_digits = 1\n",
    "    \n",
    "    while True:\n",
    "        yield number\n",
    "        \n",
    "        k = 1\n",
    "        while number[-k] == radix - 1:\n",
    "            number[-k] = 0\n",
    "            k += 1\n",
    "            \n",
    "            if k > num_digits:\n",
    "                number = [0] + number\n",
    "                num_digits += 1\n",
    "                break\n",
    "        if num_digits > max_num_digits:\n",
    "            break\n",
    "        number[-k] += 1    \n",
    "        \n",
    "        i = k - 1\n",
    "        while i > 0:\n",
    "            number[-i] = number[-k]\n",
    "            i -= 1"
   ]
  },
  {
   "cell_type": "code",
   "execution_count": 14,
   "metadata": {},
   "outputs": [],
   "source": [
    "def findFixedPoints(rs, ds): # немного меняется критерий нахождения неподвижной точки\n",
    "\n",
    "    fixedPoints = {}\n",
    "\n",
    "\n",
    "    for r, d in itertools.product(rs, ds):\n",
    "        fixedPoints[(r, d)] = []\n",
    "        \n",
    "        for digits in Numbers(r, d):\n",
    "            image = K(digits, r, d)\n",
    "            \n",
    "            sorted_image = sorted(image)\n",
    "            \n",
    "            # удаление ведущих нулей из результата после его сортировки, т.к. в digits ведущих нулей нет\n",
    "            while sorted_image[0] == 0 and len(sorted_image) > 1: \n",
    "                sorted_image = sorted_image[1:]\n",
    "                \n",
    "            if sorted_image == digits: # состоят ли digits и K(digits) из одних и тех же цифр?\n",
    "                fixedPoints[(r, d)].append(image.copy())\n",
    "    \n",
    "    return fixedPoints"
   ]
  },
  {
   "cell_type": "code",
   "execution_count": 15,
   "metadata": {},
   "outputs": [
    {
     "name": "stdout",
     "output_type": "stream",
     "text": [
      "Wall time: 47.9 ms\n"
     ]
    }
   ],
   "source": [
    "%%time\n",
    "rs = range(2, 8)\n",
    "ds = range(2, 8)\n",
    "\n",
    "fixed_points_fast = findFixedPoints(rs, ds) # намного быстрее"
   ]
  },
  {
   "cell_type": "code",
   "execution_count": 16,
   "metadata": {
    "scrolled": true
   },
   "outputs": [
    {
     "data": {
      "text/plain": [
       "{(2, 2): [[0], [1]],\n",
       " (2, 3): [[0], [1, 1]],\n",
       " (2, 4): [[0], [1, 0, 0, 1], [1, 1, 1]],\n",
       " (2, 5): [[0], [1, 0, 1, 0, 1], [1, 1, 1, 1]],\n",
       " (2, 6): [[0], [1, 1, 0, 0, 0, 1], [1, 0, 1, 1, 0, 1], [1, 1, 1, 1, 1]],\n",
       " (2, 7): [[0],\n",
       "  [1, 1, 0, 1, 0, 0, 1],\n",
       "  [1, 0, 1, 1, 1, 0, 1],\n",
       "  [1, 1, 1, 1, 1, 1]],\n",
       " (3, 2): [[0]],\n",
       " (3, 3): [[0]],\n",
       " (3, 4): [[0]],\n",
       " (3, 5): [[0], [2, 0, 2, 1, 1]],\n",
       " (3, 6): [[0]],\n",
       " (3, 7): [[0], [2, 2, 0, 2, 1, 0, 1]],\n",
       " (4, 2): [[0]],\n",
       " (4, 3): [[0], [1, 3, 2]],\n",
       " (4, 4): [[0], [3, 0, 2, 1]],\n",
       " (4, 5): [[0]],\n",
       " (4, 6): [[0], [3, 3, 0, 2, 0, 1], [3, 1, 0, 2, 2, 1], [2, 1, 3, 3, 1, 2]],\n",
       " (4, 7): [[0], [3, 2, 0, 3, 2, 1, 1]],\n",
       " (5, 2): [[0], [1, 3]],\n",
       " (5, 3): [[0]],\n",
       " (5, 4): [[0], [3, 0, 3, 2]],\n",
       " (5, 5): [[0]],\n",
       " (5, 6): [[0]],\n",
       " (5, 7): [[0]],\n",
       " (6, 2): [[0]],\n",
       " (6, 3): [[0], [2, 5, 3]],\n",
       " (6, 4): [[0]],\n",
       " (6, 5): [[0], [4, 1, 5, 3, 2]],\n",
       " (6, 6): [[0], [5, 3, 0, 4, 2, 1], [4, 2, 0, 4, 3, 2], [3, 2, 5, 5, 2, 3]],\n",
       " (6, 7): [[0]],\n",
       " (7, 2): [[0]],\n",
       " (7, 3): [[0]],\n",
       " (7, 4): [[0]],\n",
       " (7, 5): [[0]],\n",
       " (7, 6): [[0]],\n",
       " (7, 7): [[0]]}"
      ]
     },
     "execution_count": 16,
     "metadata": {},
     "output_type": "execute_result"
    }
   ],
   "source": [
    "fixed_points_fast"
   ]
  },
  {
   "cell_type": "code",
   "execution_count": 17,
   "metadata": {},
   "outputs": [],
   "source": [
    "# Совпадают ли эти точки с найденными ранее\n",
    "for r, d in fixed_points_fast.keys():\n",
    "    if not all([fixed_point in fixed_points_slow[(r, d)] for fixed_point in fixed_points_fast[(r, d)]]):\n",
    "        print('aaaaaaaaaaaaa')\n",
    "        break\n",
    "for r, d in fixed_points_slow.keys():\n",
    "    if not all([fixed_point in fixed_points_fast[(r, d)] for fixed_point in fixed_points_slow[(r, d)]]):\n",
    "        print('bbbbbbbbbbbbb')\n",
    "        break"
   ]
  },
  {
   "cell_type": "code",
   "execution_count": 18,
   "metadata": {},
   "outputs": [],
   "source": [
    " # посчитаем кол-во неподвижных точек для каждой из комбинаций\n",
    "num_fixed_points_fast = [[len(fixed_points_fast[(r, d)]) for d in ds] for r in rs]"
   ]
  },
  {
   "cell_type": "code",
   "execution_count": 19,
   "metadata": {},
   "outputs": [
    {
     "data": {
      "text/plain": [
       "[[2, 2, 3, 3, 4, 4],\n",
       " [1, 1, 1, 2, 1, 2],\n",
       " [1, 2, 2, 1, 4, 2],\n",
       " [2, 1, 2, 1, 1, 1],\n",
       " [1, 2, 1, 2, 4, 1],\n",
       " [1, 1, 1, 1, 1, 1]]"
      ]
     },
     "execution_count": 19,
     "metadata": {},
     "output_type": "execute_result"
    }
   ],
   "source": [
    "num_fixed_points_fast"
   ]
  },
  {
   "cell_type": "markdown",
   "metadata": {},
   "source": [
    "Для поиска циклов также достаточно перебрать по одному числу из каждого класса эквивалентности.\n",
    "\n",
    "Будем сохранять встретившиеся числа, как массив расположенных в порядке неубывания цифр. Тогда, проверка \"зацикливания\" сводится к сортировке цифр числа полученного при n-кратном применении функции K к x0(получили число u) и сравнивании его с уже встретившимися числами. Если найдено совпадение, то u, K(u), ..., K(K(...K(u))) = u - цикл."
   ]
  },
  {
   "cell_type": "code",
   "execution_count": 20,
   "metadata": {},
   "outputs": [],
   "source": [
    "def findCycles(rs, ds):\n",
    "\n",
    "    cycles = {}\n",
    "\n",
    "    for r, d in itertools.product(rs, ds):\n",
    "\n",
    "        cycles[(r, d)] = []\n",
    "        \n",
    "        encountered_numbers = []\n",
    "        \n",
    "        for digits in Numbers(r, d):\n",
    "            initial_number = digits.copy()\n",
    "            \n",
    "            current_number = digits.copy()\n",
    "            sorted_current_number = current_number.copy() # уже отсортировано\n",
    "            locally_encountered_numbers = []\n",
    "            \n",
    "            while True:\n",
    "                locally_encountered_numbers.append(sorted_current_number)\n",
    "                \n",
    "                current_number = K(current_number, r, d)\n",
    "                sorted_current_number = sorted(current_number)\n",
    "                \n",
    "                # удаление ведущих нулей в отсортированном числе\n",
    "                while sorted_current_number[0] == 0 and len(sorted_current_number) > 1: \n",
    "                    sorted_current_number = sorted_current_number[1:]\n",
    "                    \n",
    "                if sorted_current_number in encountered_numbers: # в этом случае ничего нового мы уже не найдем\n",
    "                    break\n",
    "                    \n",
    "                if sorted_current_number in locally_encountered_numbers: # нашли цикл\n",
    "                    cycle = [current_number.copy()]\n",
    "                    temp = K(current_number, r, d)\n",
    "                    while temp != current_number:\n",
    "                        cycle.append(temp)\n",
    "                        temp = K(temp, r, d)\n",
    "                    cycles[(r, d)].append(cycle)\n",
    "                    break\n",
    "                \n",
    "                \n",
    "            # inital_number может уже содержаться в encountered_numbers, \n",
    "            # т.к. его добавление проихсодит без проверки(первая строка цикла)\n",
    "            # добавление еще одной проверки СИЛЬНО замедляет работу программы(почему-то)\n",
    "            # таким образом некоторые значения в encountered_numbers могут повторяться(не более 1-го раза)\n",
    "            encountered_numbers += locally_encountered_numbers\n",
    "\n",
    "    return cycles"
   ]
  },
  {
   "cell_type": "code",
   "execution_count": 21,
   "metadata": {},
   "outputs": [
    {
     "name": "stdout",
     "output_type": "stream",
     "text": [
      "Wall time: 24min 17s\n"
     ]
    }
   ],
   "source": [
    "%%time\n",
    "rs = range(2, 14)\n",
    "ds = range(2, 14)\n",
    "\n",
    "cycles = findCycles(rs, ds)"
   ]
  },
  {
   "cell_type": "code",
   "execution_count": 22,
   "metadata": {},
   "outputs": [],
   "source": [
    "fixed_points = {key:list(map(lambda x: x[0], filter(lambda x: len(x) == 1, cycles[key]))) for key in cycles}"
   ]
  },
  {
   "cell_type": "code",
   "execution_count": 23,
   "metadata": {
    "scrolled": true
   },
   "outputs": [
    {
     "data": {
      "text/plain": [
       "{(2, 2): [[0], [1]],\n",
       " (2, 3): [[0], [1, 1]],\n",
       " (2, 4): [[0], [1, 1, 1], [1, 0, 0, 1]],\n",
       " (2, 5): [[0], [1, 1, 1, 1], [1, 0, 1, 0, 1]],\n",
       " (2, 6): [[0], [1, 1, 1, 1, 1], [1, 0, 1, 1, 0, 1], [1, 1, 0, 0, 0, 1]],\n",
       " (2, 7): [[0],\n",
       "  [1, 1, 1, 1, 1, 1],\n",
       "  [1, 0, 1, 1, 1, 0, 1],\n",
       "  [1, 1, 0, 1, 0, 0, 1]],\n",
       " (2, 8): [[0],\n",
       "  [1, 1, 1, 1, 1, 1, 1],\n",
       "  [1, 0, 1, 1, 1, 1, 0, 1],\n",
       "  [1, 1, 0, 1, 1, 0, 0, 1],\n",
       "  [1, 1, 1, 0, 0, 0, 0, 1]],\n",
       " (2, 9): [[0],\n",
       "  [1, 1, 1, 1, 1, 1, 1, 1],\n",
       "  [1, 0, 1, 1, 1, 1, 1, 0, 1],\n",
       "  [1, 1, 0, 1, 1, 1, 0, 0, 1],\n",
       "  [1, 1, 1, 0, 1, 0, 0, 0, 1]],\n",
       " (2, 10): [[0],\n",
       "  [1, 1, 1, 1, 1, 1, 1, 1, 1],\n",
       "  [1, 0, 1, 1, 1, 1, 1, 1, 0, 1],\n",
       "  [1, 1, 0, 1, 1, 1, 1, 0, 0, 1],\n",
       "  [1, 1, 1, 0, 1, 1, 0, 0, 0, 1],\n",
       "  [1, 1, 1, 1, 0, 0, 0, 0, 0, 1]],\n",
       " (2, 11): [[0],\n",
       "  [1, 1, 1, 1, 1, 1, 1, 1, 1, 1],\n",
       "  [1, 0, 1, 1, 1, 1, 1, 1, 1, 0, 1],\n",
       "  [1, 1, 0, 1, 1, 1, 1, 1, 0, 0, 1],\n",
       "  [1, 1, 1, 0, 1, 1, 1, 0, 0, 0, 1],\n",
       "  [1, 1, 1, 1, 0, 1, 0, 0, 0, 0, 1]],\n",
       " (2, 12): [[0],\n",
       "  [1, 1, 1, 1, 1, 1, 1, 1, 1, 1, 1],\n",
       "  [1, 0, 1, 1, 1, 1, 1, 1, 1, 1, 0, 1],\n",
       "  [1, 1, 0, 1, 1, 1, 1, 1, 1, 0, 0, 1],\n",
       "  [1, 1, 1, 0, 1, 1, 1, 1, 0, 0, 0, 1],\n",
       "  [1, 1, 1, 1, 0, 1, 1, 0, 0, 0, 0, 1],\n",
       "  [1, 1, 1, 1, 1, 0, 0, 0, 0, 0, 0, 1]],\n",
       " (2, 13): [[0],\n",
       "  [1, 1, 1, 1, 1, 1, 1, 1, 1, 1, 1, 1],\n",
       "  [1, 0, 1, 1, 1, 1, 1, 1, 1, 1, 1, 0, 1],\n",
       "  [1, 1, 0, 1, 1, 1, 1, 1, 1, 1, 0, 0, 1],\n",
       "  [1, 1, 1, 0, 1, 1, 1, 1, 1, 0, 0, 0, 1],\n",
       "  [1, 1, 1, 1, 0, 1, 1, 1, 0, 0, 0, 0, 1],\n",
       "  [1, 1, 1, 1, 1, 0, 1, 0, 0, 0, 0, 0, 1]],\n",
       " (3, 2): [[0]],\n",
       " (3, 3): [[0]],\n",
       " (3, 4): [[0]],\n",
       " (3, 5): [[0], [2, 0, 2, 1, 1]],\n",
       " (3, 6): [[0]],\n",
       " (3, 7): [[0], [2, 2, 0, 2, 1, 0, 1]],\n",
       " (3, 8): [[0], [2, 1, 0, 2, 2, 1, 1, 1]],\n",
       " (3, 9): [[0], [2, 2, 2, 0, 2, 1, 0, 0, 1]],\n",
       " (3, 10): [[0], [2, 2, 1, 0, 2, 2, 1, 1, 0, 1]],\n",
       " (3, 11): [[0],\n",
       "  [2, 1, 1, 0, 2, 2, 2, 1, 1, 1, 1],\n",
       "  [2, 2, 2, 2, 0, 2, 1, 0, 0, 0, 1]],\n",
       " (3, 12): [[0], [2, 2, 2, 1, 0, 2, 2, 1, 1, 0, 0, 1]],\n",
       " (3, 13): [[0],\n",
       "  [2, 2, 1, 1, 0, 2, 2, 2, 1, 1, 1, 0, 1],\n",
       "  [2, 2, 2, 2, 2, 0, 2, 1, 0, 0, 0, 0, 1]],\n",
       " (4, 2): [[0]],\n",
       " (4, 3): [[0], [1, 3, 2]],\n",
       " (4, 4): [[0], [3, 0, 2, 1]],\n",
       " (4, 5): [[0]],\n",
       " (4, 6): [[0], [3, 1, 0, 2, 2, 1], [2, 1, 3, 3, 1, 2], [3, 3, 0, 2, 0, 1]],\n",
       " (4, 7): [[0], [3, 2, 0, 3, 2, 1, 1]],\n",
       " (4, 8): [[0],\n",
       "  [3, 1, 1, 0, 2, 2, 2, 1],\n",
       "  [3, 3, 1, 0, 2, 2, 0, 1],\n",
       "  [3, 3, 3, 0, 2, 0, 0, 1]],\n",
       " (4, 9): [[0],\n",
       "  [3, 2, 1, 0, 3, 2, 2, 1, 1],\n",
       "  [2, 2, 1, 3, 3, 3, 1, 1, 2],\n",
       "  [3, 3, 2, 0, 3, 2, 1, 0, 1]],\n",
       " (4, 10): [[0],\n",
       "  [3, 2, 2, 0, 3, 3, 2, 1, 1, 1],\n",
       "  [3, 1, 1, 1, 0, 2, 2, 2, 2, 1],\n",
       "  [3, 3, 3, 1, 0, 2, 2, 0, 0, 1],\n",
       "  [3, 3, 1, 1, 0, 2, 2, 2, 0, 1],\n",
       "  [3, 3, 3, 3, 0, 2, 0, 0, 0, 1]],\n",
       " (4, 11): [[0],\n",
       "  [3, 2, 1, 1, 0, 3, 2, 2, 2, 1, 1],\n",
       "  [3, 3, 2, 1, 0, 3, 2, 2, 1, 0, 1],\n",
       "  [3, 3, 3, 2, 0, 3, 2, 1, 0, 0, 1]],\n",
       " (4, 12): [[0],\n",
       "  [3, 2, 2, 1, 0, 3, 3, 2, 2, 1, 1, 1],\n",
       "  [3, 1, 1, 1, 1, 0, 2, 2, 2, 2, 2, 1],\n",
       "  [3, 3, 1, 1, 1, 0, 2, 2, 2, 2, 0, 1],\n",
       "  [2, 2, 2, 1, 3, 3, 3, 3, 1, 1, 1, 2],\n",
       "  [3, 3, 2, 2, 0, 3, 3, 2, 1, 1, 0, 1],\n",
       "  [3, 3, 3, 3, 1, 0, 2, 2, 0, 0, 0, 1],\n",
       "  [3, 3, 3, 1, 1, 0, 2, 2, 2, 0, 0, 1],\n",
       "  [3, 3, 3, 3, 3, 0, 2, 0, 0, 0, 0, 1]],\n",
       " (4, 13): [[0],\n",
       "  [3, 2, 1, 1, 1, 0, 3, 2, 2, 2, 2, 1, 1],\n",
       "  [3, 2, 2, 2, 0, 3, 3, 3, 2, 1, 1, 1, 1],\n",
       "  [3, 3, 2, 1, 1, 0, 3, 2, 2, 2, 1, 0, 1],\n",
       "  [3, 3, 3, 2, 1, 0, 3, 2, 2, 1, 0, 0, 1],\n",
       "  [3, 3, 3, 3, 2, 0, 3, 2, 1, 0, 0, 0, 1]],\n",
       " (5, 2): [[0], [1, 3]],\n",
       " (5, 3): [[0]],\n",
       " (5, 4): [[0], [3, 0, 3, 2]],\n",
       " (5, 5): [[0]],\n",
       " (5, 6): [[0]],\n",
       " (5, 7): [[0]],\n",
       " (5, 8): [[0]],\n",
       " (5, 9): [[0], [4, 3, 2, 0, 4, 3, 2, 1, 1]],\n",
       " (5, 10): [[0]],\n",
       " (5, 11): [[0], [4, 4, 3, 2, 0, 4, 3, 2, 1, 0, 1]],\n",
       " (5, 12): [[0]],\n",
       " (5, 13): [[0], [4, 4, 4, 3, 2, 0, 4, 3, 2, 1, 0, 0, 1]],\n",
       " (6, 2): [[0]],\n",
       " (6, 3): [[0], [2, 5, 3]],\n",
       " (6, 4): [[0]],\n",
       " (6, 5): [[0], [4, 1, 5, 3, 2]],\n",
       " (6, 6): [[0], [4, 2, 0, 4, 3, 2], [5, 3, 0, 4, 2, 1], [3, 2, 5, 5, 2, 3]],\n",
       " (6, 7): [[0]],\n",
       " (6, 8): [[0], [4, 3, 1, 5, 5, 3, 2, 2], [5, 5, 3, 0, 4, 2, 0, 1]],\n",
       " (6, 9): [[0], [3, 3, 2, 5, 5, 5, 2, 2, 3]],\n",
       " (6, 10): [[0],\n",
       "  [5, 3, 3, 1, 0, 4, 4, 2, 2, 1],\n",
       "  [4, 3, 2, 1, 0, 4, 4, 3, 2, 2],\n",
       "  [4, 4, 2, 1, 5, 5, 3, 3, 1, 2],\n",
       "  [5, 5, 5, 3, 0, 4, 2, 0, 0, 1]],\n",
       " (6, 11): [[0],\n",
       "  [4, 3, 3, 1, 5, 5, 5, 3, 2, 2, 2],\n",
       "  [5, 4, 3, 2, 0, 5, 4, 3, 2, 1, 1]],\n",
       " (6, 12): [[0],\n",
       "  [5, 5, 3, 3, 1, 0, 4, 4, 2, 2, 0, 1],\n",
       "  [3, 3, 3, 2, 5, 5, 5, 5, 2, 2, 2, 3],\n",
       "  [5, 5, 5, 5, 3, 0, 4, 2, 0, 0, 0, 1]],\n",
       " (6, 13): [[0],\n",
       "  [4, 4, 3, 2, 1, 5, 5, 5, 3, 3, 2, 1, 2],\n",
       "  [5, 5, 4, 3, 2, 0, 5, 4, 3, 2, 1, 0, 1]],\n",
       " (7, 2): [[0]],\n",
       " (7, 3): [[0]],\n",
       " (7, 4): [[0]],\n",
       " (7, 5): [[0]],\n",
       " (7, 6): [[0]],\n",
       " (7, 7): [[0]],\n",
       " (7, 8): [[0]],\n",
       " (7, 9): [[0]],\n",
       " (7, 10): [[0]],\n",
       " (7, 11): [[0], [6, 5, 4, 3, 0, 6, 5, 3, 2, 1, 1]],\n",
       " (7, 12): [[0]],\n",
       " (7, 13): [[0],\n",
       "  [6, 5, 4, 3, 2, 0, 6, 5, 4, 3, 2, 1, 1],\n",
       "  [6, 6, 5, 4, 3, 0, 6, 5, 3, 2, 1, 0, 1]],\n",
       " (8, 2): [[0], [2, 5]],\n",
       " (8, 3): [[0], [3, 7, 4]],\n",
       " (8, 4): [[0]],\n",
       " (8, 5): [[0]],\n",
       " (8, 6): [[0], [6, 4, 0, 6, 3, 2], [4, 3, 7, 7, 3, 4]],\n",
       " (8, 7): [[0], [6, 4, 1, 7, 5, 3, 2]],\n",
       " (8, 8): [[0], [7, 5, 3, 0, 6, 4, 2, 1]],\n",
       " (8, 9): [[0], [4, 4, 3, 7, 7, 7, 3, 3, 4]],\n",
       " (8, 10): [[0], [7, 7, 5, 3, 0, 6, 4, 2, 0, 1]],\n",
       " (8, 11): [[0]],\n",
       " (8, 12): [[0],\n",
       "  [6, 5, 4, 3, 1, 0, 6, 6, 4, 3, 2, 2],\n",
       "  [6, 6, 4, 3, 1, 7, 7, 5, 4, 3, 1, 2],\n",
       "  [4, 4, 4, 3, 7, 7, 7, 7, 3, 3, 3, 4],\n",
       "  [7, 7, 7, 5, 3, 0, 6, 4, 2, 0, 0, 1]],\n",
       " (8, 13): [[0]],\n",
       " (9, 2): [[0]],\n",
       " (9, 3): [[0]],\n",
       " (9, 4): [[0]],\n",
       " (9, 5): [[0], [6, 2, 8, 5, 3]],\n",
       " (9, 6): [[0]],\n",
       " (9, 7): [[0]],\n",
       " (9, 8): [[0], [6, 5, 2, 8, 8, 5, 3, 3]],\n",
       " (9, 9): [[0], [7, 5, 3, 1, 8, 6, 5, 3, 2]],\n",
       " (9, 10): [[0], [6, 6, 3, 2, 8, 8, 5, 5, 2, 3]],\n",
       " (9, 11): [[0], [6, 5, 5, 2, 8, 8, 8, 5, 3, 3, 3]],\n",
       " (9, 12): [[0]],\n",
       " (9, 13): [[0], [6, 6, 5, 3, 2, 8, 8, 8, 5, 5, 3, 2, 3]],\n",
       " (10, 2): [[0]],\n",
       " (10, 3): [[0], [4, 9, 5]],\n",
       " (10, 4): [[0], [6, 1, 7, 4]],\n",
       " (10, 5): [[0]],\n",
       " (10, 6): [[0], [6, 3, 1, 7, 6, 4], [5, 4, 9, 9, 4, 5]],\n",
       " (10, 7): [[0]],\n",
       " (10, 8): [[0], [9, 7, 5, 0, 8, 4, 2, 1], [6, 3, 3, 1, 7, 6, 6, 4]],\n",
       " (10, 9): [[0], [8, 6, 4, 1, 9, 7, 5, 3, 2], [5, 5, 4, 9, 9, 9, 4, 4, 5]],\n",
       " (10, 10): [[0],\n",
       "  [9, 7, 5, 3, 0, 8, 6, 4, 2, 1],\n",
       "  [9, 9, 7, 5, 0, 8, 4, 2, 0, 1],\n",
       "  [6, 3, 3, 3, 1, 7, 6, 6, 6, 4]],\n",
       " (10, 11): [[0], [8, 6, 4, 3, 1, 9, 7, 6, 5, 3, 2]],\n",
       " (10, 12): [[0],\n",
       "  [9, 7, 5, 3, 3, 0, 8, 6, 6, 4, 2, 1],\n",
       "  [5, 5, 5, 4, 9, 9, 9, 9, 4, 4, 4, 5],\n",
       "  [9, 9, 7, 5, 3, 0, 8, 6, 4, 2, 0, 1],\n",
       "  [9, 9, 9, 7, 5, 0, 8, 4, 2, 0, 0, 1],\n",
       "  [6, 3, 3, 3, 3, 1, 7, 6, 6, 6, 6, 4]],\n",
       " (10, 13): [[0], [8, 6, 4, 3, 3, 1, 9, 7, 6, 6, 5, 3, 2]],\n",
       " (11, 2): [[0], [3, 7]],\n",
       " (11, 3): [[0]],\n",
       " (11, 4): [[0]],\n",
       " (11, 5): [[0]],\n",
       " (11, 6): [[0]],\n",
       " (11, 7): [[0]],\n",
       " (11, 8): [[0], [7, 4, 3, 1, 8, 7, 6, 4]],\n",
       " (11, 9): [[0], [9, 7, 5, 1, 10, 8, 5, 3, 2]],\n",
       " (11, 10): [[0]],\n",
       " (11, 11): [[0]],\n",
       " (11, 12): [[0], [7, 6, 4, 3, 2, 1, 8, 8, 7, 6, 4, 4]],\n",
       " (11, 13): [[0]],\n",
       " (12, 2): [[0]],\n",
       " (12, 3): [[0], [5, 11, 6]],\n",
       " (12, 4): [[0]],\n",
       " (12, 5): [[0], [8, 3, 11, 7, 4]],\n",
       " (12, 6): [[0], [6, 5, 11, 11, 5, 6]],\n",
       " (12, 7): [[0], [9, 6, 2, 11, 8, 5, 3]],\n",
       " (12, 8): [[0], [10, 8, 5, 0, 10, 6, 3, 2], [8, 7, 3, 11, 11, 7, 4, 4]],\n",
       " (12, 9): [[0], [6, 6, 5, 11, 11, 11, 5, 5, 6]],\n",
       " (12, 10): [[0], [8, 8, 4, 3, 11, 11, 7, 7, 3, 4]],\n",
       " (12, 11): [[0],\n",
       "  [10, 8, 6, 4, 1, 11, 9, 7, 5, 3, 2],\n",
       "  [8, 7, 7, 3, 11, 11, 11, 7, 4, 4, 4]],\n",
       " (12, 12): [[0],\n",
       "  [11, 9, 7, 5, 3, 0, 10, 8, 6, 4, 2, 1],\n",
       "  [6, 6, 6, 5, 11, 11, 11, 11, 5, 5, 5, 6]],\n",
       " (12, 13): [[0], [8, 8, 7, 4, 3, 11, 11, 11, 7, 7, 4, 3, 4]],\n",
       " (13, 2): [[0]],\n",
       " (13, 3): [[0]],\n",
       " (13, 4): [[0]],\n",
       " (13, 5): [[0]],\n",
       " (13, 6): [[0], [9, 5, 1, 10, 7, 4]],\n",
       " (13, 7): [[0]],\n",
       " (13, 8): [[0], [9, 5, 4, 1, 10, 8, 7, 4]],\n",
       " (13, 9): [[0]],\n",
       " (13, 10): [[0], [9, 5, 4, 4, 1, 10, 8, 8, 7, 4]],\n",
       " (13, 11): [[0]],\n",
       " (13, 12): [[0], [9, 5, 4, 4, 4, 1, 10, 8, 8, 8, 7, 4]],\n",
       " (13, 13): [[0]]}"
      ]
     },
     "execution_count": 23,
     "metadata": {},
     "output_type": "execute_result"
    }
   ],
   "source": [
    "fixed_points"
   ]
  },
  {
   "cell_type": "code",
   "execution_count": 24,
   "metadata": {},
   "outputs": [],
   "source": [
    "num_fixed_points = [[len(fixed_points[(r, d)]) for d in ds] for r in rs]"
   ]
  },
  {
   "cell_type": "code",
   "execution_count": 25,
   "metadata": {},
   "outputs": [
    {
     "data": {
      "image/png": "[encoded data removed]",
      "text/plain": [
       "<Figure size 720x576 with 2 Axes>"
      ]
     },
     "metadata": {
      "needs_background": "light"
     },
     "output_type": "display_data"
    }
   ],
   "source": [
    "fig, ax = plt.subplots(1, 1, figsize=(10, 8));\n",
    "sns.heatmap(num_fixed_points, xticklabels=ds, yticklabels=rs, annot=True, ax=ax, cmap='RdYlGn_r', square=True);\n",
    "ax.set_title('number of fixed points')\n",
    "ax.set_xlabel('num digits');\n",
    "ax.set_ylabel('radix');\n",
    "ax.set(xlim=(0, len(ds)), ylim=(0, len(rs)));\n",
    "\n",
    "fig.savefig(f'{ax.get_title()}.png');"
   ]
  },
  {
   "cell_type": "code",
   "execution_count": 26,
   "metadata": {},
   "outputs": [],
   "source": [
    "num_cycles =  [[len(cycles[(r, d)]) for d in ds] for r in rs]"
   ]
  },
  {
   "cell_type": "code",
   "execution_count": 27,
   "metadata": {},
   "outputs": [
    {
     "data": {
      "image/png": "[encoded data removed]",
      "text/plain": [
       "<Figure size 720x576 with 2 Axes>"
      ]
     },
     "metadata": {
      "needs_background": "light"
     },
     "output_type": "display_data"
    }
   ],
   "source": [
    "fig, ax = plt.subplots(1, 1, figsize=(10, 8));\n",
    "sns.heatmap(num_cycles, xticklabels=ds, yticklabels=rs, annot=True, ax=ax, cmap='RdYlGn_r');\n",
    "ax.set_title('number of cycles(including fixed points)')\n",
    "ax.set_xlabel('num digits');\n",
    "ax.set_ylabel('radix');\n",
    "ax.set(xlim=(0, len(ds)), ylim=(0, len(rs)));\n",
    "\n",
    "fig.savefig(f'{ax.get_title()}.png');"
   ]
  },
  {
   "cell_type": "code",
   "execution_count": 28,
   "metadata": {},
   "outputs": [],
   "source": [
    "max_lengths = [[max(map(len, cycles[(r, d)])) for d in ds] for r in rs]"
   ]
  },
  {
   "cell_type": "code",
   "execution_count": 29,
   "metadata": {},
   "outputs": [
    {
     "data": {
      "image/png": "[encoded data removed]",
      "text/plain": [
       "<Figure size 720x576 with 2 Axes>"
      ]
     },
     "metadata": {
      "needs_background": "light"
     },
     "output_type": "display_data"
    }
   ],
   "source": [
    "fig, ax = plt.subplots(1, 1, figsize=(10, 8));\n",
    "sns.heatmap(max_lengths, xticklabels=ds, yticklabels=rs, annot=True, ax=ax, cmap='RdYlGn_r', square=True);\n",
    "ax.set_title('the longest cycle')\n",
    "ax.set_xlabel('num digits');\n",
    "ax.set_ylabel('radix');\n",
    "ax.set(xlim=(0, len(ds)), ylim=(0, len(rs)));\n",
    "\n",
    "fig.savefig(f'{ax.get_title()}.png');"
   ]
  },
  {
   "cell_type": "code",
   "execution_count": 30,
   "metadata": {},
   "outputs": [],
   "source": [
    "def Prettify(digits, d):\n",
    "    alphabeth = '0123456789ABCDEF'\n",
    "    s = ''.join([alphabeth[digit] for digit in digits])\n",
    "    s = '0' * (d - len(s)) + s\n",
    "    return s"
   ]
  },
  {
   "cell_type": "code",
   "execution_count": 31,
   "metadata": {},
   "outputs": [],
   "source": [
    "pretty_cycles = {key: [list(map(lambda x: Prettify(x, key[1]), cycle)) for cycle in cycles[key]] for key in cycles}"
   ]
  },
  {
   "cell_type": "code",
   "execution_count": 32,
   "metadata": {},
   "outputs": [],
   "source": [
    "pretty_fixed_points = {key: list(map(lambda x: Prettify(x, key[1]), fixed_points[key])) for key in fixed_points}"
   ]
  },
  {
   "cell_type": "code",
   "execution_count": 33,
   "metadata": {},
   "outputs": [],
   "source": [
    "import pandas as pd"
   ]
  },
  {
   "cell_type": "code",
   "execution_count": 34,
   "metadata": {},
   "outputs": [],
   "source": [
    "df = pd.DataFrame(num_fixed_points, index=rs, columns=ds)\n",
    "df.to_csv('num_fixed_points.csv')"
   ]
  },
  {
   "cell_type": "code",
   "execution_count": 35,
   "metadata": {},
   "outputs": [],
   "source": [
    "df = pd.DataFrame(num_cycles, index=rs, columns=ds)\n",
    "df.to_csv('num_cycles.csv')"
   ]
  },
  {
   "cell_type": "code",
   "execution_count": 36,
   "metadata": {},
   "outputs": [],
   "source": [
    "df = pd.DataFrame(max_lengths, index=rs, columns=ds)\n",
    "df.to_csv('cycle_max_length.csv')"
   ]
  },
  {
   "cell_type": "code",
   "execution_count": null,
   "metadata": {},
   "outputs": [],
   "source": []
  },
  {
   "cell_type": "code",
   "execution_count": null,
   "metadata": {},
   "outputs": [],
   "source": []
  },
  {
   "cell_type": "code",
   "execution_count": null,
   "metadata": {},
   "outputs": [],
   "source": []
  },
  {
   "cell_type": "code",
   "execution_count": null,
   "metadata": {},
   "outputs": [],
   "source": []
  },
  {
   "cell_type": "code",
   "execution_count": null,
   "metadata": {},
   "outputs": [],
   "source": []
  }
 ],
 "metadata": {
  "kernelspec": {
   "display_name": "Python 3",
   "language": "python",
   "name": "python3"
  },
  "language_info": {
   "codemirror_mode": {
    "name": "ipython",
    "version": 3
   },
   "file_extension": ".py",
   "mimetype": "text/x-python",
   "name": "python",
   "nbconvert_exporter": "python",
   "pygments_lexer": "ipython3",
   "version": "3.6.5"
  }
 },
 "nbformat": 4,
 "nbformat_minor": 2
}
